{
 "cells": [
  {
   "cell_type": "markdown",
   "metadata": {},
   "source": [
    "# Predict the diabetes based on diagnostic measures\n",
    "\n",
    "#### About DATA:\n",
    "This dataset is originally from the National Institute of Diabetes and Digestive and Kidney Diseases. The objective of the dataset is to diagnostically predict whether or not a patient has diabetes, based on certain diagnostic measurements included in the dataset. Several constraints were placed on the selection of these instances from a larger database. In particular, all patients here are females at least 21 years old of Pima Indian heritage.\n",
    "\n",
    "\n",
    "The datasets consists of several medical predictor variables and one target variable, Outcome. Predictor variables includes the number of pregnancies the patient has had, their BMI, insulin level, age, and so on.\n",
    "\n",
    "\n",
    "Columns\n",
    "> 1.Pregnancies = Number of times pregnant\n",
    "\n",
    "> 2.Glucose = Plasma glucose concentration a 2 hours in an oral glucose tolerance test\n",
    "\n",
    "> 3.BloodPressure = Diastolic blood pressure (mm Hg)\n",
    "\n",
    "> 4.SkinThickness = Triceps skin fold thickness (mm)\n",
    "\n",
    "> 5.Insulin = 2-Hour serum insulin (mu U/ml)\n",
    "\n",
    "> 6.BMI = Body mass index (weight in kg/(height in m)^2)\n",
    "\n",
    "> 7.DiabetesPedigreeFunction = Diabetes pedigree function\n",
    "\n",
    "> 8.Age = Age (years)\n",
    "\n",
    "> 9.Outcome = Class variable (0 or 1) 268 of 768 are 1, the others are 0"
   ]
  },
  {
   "cell_type": "markdown",
   "metadata": {},
   "source": [
    "# Libraries and data import"
   ]
  },
  {
   "cell_type": "code",
   "execution_count": 52,
   "metadata": {},
   "outputs": [],
   "source": [
    "# importing libraries\n",
    "import pandas as pd\n",
    "import numpy as np\n",
    "import matplotlib.pyplot as plt\n",
    "%matplotlib inline\n",
    "import seaborn as sns\n",
    "\n",
    "import warnings\n",
    "warnings.filterwarnings('ignore')\n",
    "\n",
    "# #this helps to show the output of every line of code\n",
    "from IPython.core.interactiveshell import InteractiveShell\n",
    "InteractiveShell.ast_node_interactivity = \"last_expr\""
   ]
  },
  {
   "cell_type": "code",
   "execution_count": 53,
   "metadata": {},
   "outputs": [],
   "source": [
    "data = pd.read_csv('C:\\\\Users\\\\khanal\\\\Desktop\\\\github\\\\Diabetes+Prediction+Using+Machine+Learning\\\\pima-data.csv')\n"
   ]
  },
  {
   "cell_type": "markdown",
   "metadata": {},
   "source": [
    "# Data information"
   ]
  },
  {
   "cell_type": "code",
   "execution_count": 54,
   "metadata": {},
   "outputs": [
    {
     "data": {
      "text/html": [
       "<div>\n",
       "<style scoped>\n",
       "    .dataframe tbody tr th:only-of-type {\n",
       "        vertical-align: middle;\n",
       "    }\n",
       "\n",
       "    .dataframe tbody tr th {\n",
       "        vertical-align: top;\n",
       "    }\n",
       "\n",
       "    .dataframe thead th {\n",
       "        text-align: right;\n",
       "    }\n",
       "</style>\n",
       "<table border=\"1\" class=\"dataframe\">\n",
       "  <thead>\n",
       "    <tr style=\"text-align: right;\">\n",
       "      <th></th>\n",
       "      <th>num_preg</th>\n",
       "      <th>glucose_conc</th>\n",
       "      <th>diastolic_bp</th>\n",
       "      <th>thickness</th>\n",
       "      <th>insulin</th>\n",
       "      <th>bmi</th>\n",
       "      <th>diab_pred</th>\n",
       "      <th>age</th>\n",
       "      <th>skin</th>\n",
       "      <th>diabetes</th>\n",
       "    </tr>\n",
       "  </thead>\n",
       "  <tbody>\n",
       "    <tr>\n",
       "      <th>0</th>\n",
       "      <td>6</td>\n",
       "      <td>148</td>\n",
       "      <td>72</td>\n",
       "      <td>35</td>\n",
       "      <td>0</td>\n",
       "      <td>33.6</td>\n",
       "      <td>0.627</td>\n",
       "      <td>50</td>\n",
       "      <td>1.3790</td>\n",
       "      <td>True</td>\n",
       "    </tr>\n",
       "    <tr>\n",
       "      <th>1</th>\n",
       "      <td>1</td>\n",
       "      <td>85</td>\n",
       "      <td>66</td>\n",
       "      <td>29</td>\n",
       "      <td>0</td>\n",
       "      <td>26.6</td>\n",
       "      <td>0.351</td>\n",
       "      <td>31</td>\n",
       "      <td>1.1426</td>\n",
       "      <td>False</td>\n",
       "    </tr>\n",
       "    <tr>\n",
       "      <th>2</th>\n",
       "      <td>8</td>\n",
       "      <td>183</td>\n",
       "      <td>64</td>\n",
       "      <td>0</td>\n",
       "      <td>0</td>\n",
       "      <td>23.3</td>\n",
       "      <td>0.672</td>\n",
       "      <td>32</td>\n",
       "      <td>0.0000</td>\n",
       "      <td>True</td>\n",
       "    </tr>\n",
       "    <tr>\n",
       "      <th>3</th>\n",
       "      <td>1</td>\n",
       "      <td>89</td>\n",
       "      <td>66</td>\n",
       "      <td>23</td>\n",
       "      <td>94</td>\n",
       "      <td>28.1</td>\n",
       "      <td>0.167</td>\n",
       "      <td>21</td>\n",
       "      <td>0.9062</td>\n",
       "      <td>False</td>\n",
       "    </tr>\n",
       "    <tr>\n",
       "      <th>4</th>\n",
       "      <td>0</td>\n",
       "      <td>137</td>\n",
       "      <td>40</td>\n",
       "      <td>35</td>\n",
       "      <td>168</td>\n",
       "      <td>43.1</td>\n",
       "      <td>2.288</td>\n",
       "      <td>33</td>\n",
       "      <td>1.3790</td>\n",
       "      <td>True</td>\n",
       "    </tr>\n",
       "  </tbody>\n",
       "</table>\n",
       "</div>"
      ],
      "text/plain": [
       "   num_preg  glucose_conc  diastolic_bp  thickness  insulin   bmi  diab_pred  \\\n",
       "0         6           148            72         35        0  33.6      0.627   \n",
       "1         1            85            66         29        0  26.6      0.351   \n",
       "2         8           183            64          0        0  23.3      0.672   \n",
       "3         1            89            66         23       94  28.1      0.167   \n",
       "4         0           137            40         35      168  43.1      2.288   \n",
       "\n",
       "   age    skin  diabetes  \n",
       "0   50  1.3790      True  \n",
       "1   31  1.1426     False  \n",
       "2   32  0.0000      True  \n",
       "3   21  0.9062     False  \n",
       "4   33  1.3790      True  "
      ]
     },
     "execution_count": 54,
     "metadata": {},
     "output_type": "execute_result"
    }
   ],
   "source": [
    "data.head()"
   ]
  },
  {
   "cell_type": "code",
   "execution_count": 55,
   "metadata": {},
   "outputs": [
    {
     "data": {
      "text/plain": [
       "pandas.core.frame.DataFrame"
      ]
     },
     "execution_count": 55,
     "metadata": {},
     "output_type": "execute_result"
    }
   ],
   "source": [
    "type(data)"
   ]
  },
  {
   "cell_type": "code",
   "execution_count": 56,
   "metadata": {},
   "outputs": [
    {
     "data": {
      "text/plain": [
       "(768, 10)"
      ]
     },
     "execution_count": 56,
     "metadata": {},
     "output_type": "execute_result"
    }
   ],
   "source": [
    "data.shape"
   ]
  },
  {
   "cell_type": "code",
   "execution_count": 57,
   "metadata": {},
   "outputs": [
    {
     "name": "stdout",
     "output_type": "stream",
     "text": [
      "<class 'pandas.core.frame.DataFrame'>\n",
      "RangeIndex: 768 entries, 0 to 767\n",
      "Data columns (total 10 columns):\n",
      " #   Column        Non-Null Count  Dtype  \n",
      "---  ------        --------------  -----  \n",
      " 0   num_preg      768 non-null    int64  \n",
      " 1   glucose_conc  768 non-null    int64  \n",
      " 2   diastolic_bp  768 non-null    int64  \n",
      " 3   thickness     768 non-null    int64  \n",
      " 4   insulin       768 non-null    int64  \n",
      " 5   bmi           768 non-null    float64\n",
      " 6   diab_pred     768 non-null    float64\n",
      " 7   age           768 non-null    int64  \n",
      " 8   skin          768 non-null    float64\n",
      " 9   diabetes      768 non-null    bool   \n",
      "dtypes: bool(1), float64(3), int64(6)\n",
      "memory usage: 54.9 KB\n"
     ]
    }
   ],
   "source": [
    "data.info()"
   ]
  },
  {
   "cell_type": "code",
   "execution_count": 58,
   "metadata": {},
   "outputs": [
    {
     "data": {
      "text/html": [
       "<div>\n",
       "<style scoped>\n",
       "    .dataframe tbody tr th:only-of-type {\n",
       "        vertical-align: middle;\n",
       "    }\n",
       "\n",
       "    .dataframe tbody tr th {\n",
       "        vertical-align: top;\n",
       "    }\n",
       "\n",
       "    .dataframe thead th {\n",
       "        text-align: right;\n",
       "    }\n",
       "</style>\n",
       "<table border=\"1\" class=\"dataframe\">\n",
       "  <thead>\n",
       "    <tr style=\"text-align: right;\">\n",
       "      <th></th>\n",
       "      <th>num_preg</th>\n",
       "      <th>glucose_conc</th>\n",
       "      <th>diastolic_bp</th>\n",
       "      <th>thickness</th>\n",
       "      <th>insulin</th>\n",
       "      <th>bmi</th>\n",
       "      <th>diab_pred</th>\n",
       "      <th>age</th>\n",
       "      <th>skin</th>\n",
       "    </tr>\n",
       "  </thead>\n",
       "  <tbody>\n",
       "    <tr>\n",
       "      <th>count</th>\n",
       "      <td>768.000000</td>\n",
       "      <td>768.000000</td>\n",
       "      <td>768.000000</td>\n",
       "      <td>768.000000</td>\n",
       "      <td>768.000000</td>\n",
       "      <td>768.000000</td>\n",
       "      <td>768.000000</td>\n",
       "      <td>768.000000</td>\n",
       "      <td>768.000000</td>\n",
       "    </tr>\n",
       "    <tr>\n",
       "      <th>mean</th>\n",
       "      <td>3.845052</td>\n",
       "      <td>120.894531</td>\n",
       "      <td>69.105469</td>\n",
       "      <td>20.536458</td>\n",
       "      <td>79.799479</td>\n",
       "      <td>31.992578</td>\n",
       "      <td>0.471876</td>\n",
       "      <td>33.240885</td>\n",
       "      <td>0.809136</td>\n",
       "    </tr>\n",
       "    <tr>\n",
       "      <th>std</th>\n",
       "      <td>3.369578</td>\n",
       "      <td>31.972618</td>\n",
       "      <td>19.355807</td>\n",
       "      <td>15.952218</td>\n",
       "      <td>115.244002</td>\n",
       "      <td>7.884160</td>\n",
       "      <td>0.331329</td>\n",
       "      <td>11.760232</td>\n",
       "      <td>0.628517</td>\n",
       "    </tr>\n",
       "    <tr>\n",
       "      <th>min</th>\n",
       "      <td>0.000000</td>\n",
       "      <td>0.000000</td>\n",
       "      <td>0.000000</td>\n",
       "      <td>0.000000</td>\n",
       "      <td>0.000000</td>\n",
       "      <td>0.000000</td>\n",
       "      <td>0.078000</td>\n",
       "      <td>21.000000</td>\n",
       "      <td>0.000000</td>\n",
       "    </tr>\n",
       "    <tr>\n",
       "      <th>25%</th>\n",
       "      <td>1.000000</td>\n",
       "      <td>99.000000</td>\n",
       "      <td>62.000000</td>\n",
       "      <td>0.000000</td>\n",
       "      <td>0.000000</td>\n",
       "      <td>27.300000</td>\n",
       "      <td>0.243750</td>\n",
       "      <td>24.000000</td>\n",
       "      <td>0.000000</td>\n",
       "    </tr>\n",
       "    <tr>\n",
       "      <th>50%</th>\n",
       "      <td>3.000000</td>\n",
       "      <td>117.000000</td>\n",
       "      <td>72.000000</td>\n",
       "      <td>23.000000</td>\n",
       "      <td>30.500000</td>\n",
       "      <td>32.000000</td>\n",
       "      <td>0.372500</td>\n",
       "      <td>29.000000</td>\n",
       "      <td>0.906200</td>\n",
       "    </tr>\n",
       "    <tr>\n",
       "      <th>75%</th>\n",
       "      <td>6.000000</td>\n",
       "      <td>140.250000</td>\n",
       "      <td>80.000000</td>\n",
       "      <td>32.000000</td>\n",
       "      <td>127.250000</td>\n",
       "      <td>36.600000</td>\n",
       "      <td>0.626250</td>\n",
       "      <td>41.000000</td>\n",
       "      <td>1.260800</td>\n",
       "    </tr>\n",
       "    <tr>\n",
       "      <th>max</th>\n",
       "      <td>17.000000</td>\n",
       "      <td>199.000000</td>\n",
       "      <td>122.000000</td>\n",
       "      <td>99.000000</td>\n",
       "      <td>846.000000</td>\n",
       "      <td>67.100000</td>\n",
       "      <td>2.420000</td>\n",
       "      <td>81.000000</td>\n",
       "      <td>3.900600</td>\n",
       "    </tr>\n",
       "  </tbody>\n",
       "</table>\n",
       "</div>"
      ],
      "text/plain": [
       "         num_preg  glucose_conc  diastolic_bp   thickness     insulin  \\\n",
       "count  768.000000    768.000000    768.000000  768.000000  768.000000   \n",
       "mean     3.845052    120.894531     69.105469   20.536458   79.799479   \n",
       "std      3.369578     31.972618     19.355807   15.952218  115.244002   \n",
       "min      0.000000      0.000000      0.000000    0.000000    0.000000   \n",
       "25%      1.000000     99.000000     62.000000    0.000000    0.000000   \n",
       "50%      3.000000    117.000000     72.000000   23.000000   30.500000   \n",
       "75%      6.000000    140.250000     80.000000   32.000000  127.250000   \n",
       "max     17.000000    199.000000    122.000000   99.000000  846.000000   \n",
       "\n",
       "              bmi   diab_pred         age        skin  \n",
       "count  768.000000  768.000000  768.000000  768.000000  \n",
       "mean    31.992578    0.471876   33.240885    0.809136  \n",
       "std      7.884160    0.331329   11.760232    0.628517  \n",
       "min      0.000000    0.078000   21.000000    0.000000  \n",
       "25%     27.300000    0.243750   24.000000    0.000000  \n",
       "50%     32.000000    0.372500   29.000000    0.906200  \n",
       "75%     36.600000    0.626250   41.000000    1.260800  \n",
       "max     67.100000    2.420000   81.000000    3.900600  "
      ]
     },
     "execution_count": 58,
     "metadata": {},
     "output_type": "execute_result"
    }
   ],
   "source": [
    "data.describe()"
   ]
  },
  {
   "cell_type": "markdown",
   "metadata": {},
   "source": [
    "# Missing value analysis"
   ]
  },
  {
   "cell_type": "code",
   "execution_count": 59,
   "metadata": {},
   "outputs": [
    {
     "name": "stdout",
     "output_type": "stream",
     "text": [
      "num_preg        0\n",
      "glucose_conc    0\n",
      "diastolic_bp    0\n",
      "thickness       0\n",
      "insulin         0\n",
      "bmi             0\n",
      "diab_pred       0\n",
      "age             0\n",
      "skin            0\n",
      "diabetes        0\n",
      "dtype: int64\n"
     ]
    }
   ],
   "source": [
    "#data.isna() # this check every data\n",
    "data.isnull().any().any()\n",
    "data.isnull().any() # this gives true and false for every varibale\n",
    "# this gives only one true or false in whole data frame\n",
    "print(data.isna().sum()) # this gives the number\n",
    "# no nan values"
   ]
  },
  {
   "cell_type": "code",
   "execution_count": 60,
   "metadata": {},
   "outputs": [
    {
     "data": {
      "text/plain": [
       "num_preg         True\n",
       "glucose_conc     True\n",
       "diastolic_bp     True\n",
       "thickness        True\n",
       "insulin          True\n",
       "bmi              True\n",
       "diab_pred       False\n",
       "age             False\n",
       "skin             True\n",
       "diabetes         True\n",
       "dtype: bool"
      ]
     },
     "execution_count": 60,
     "metadata": {},
     "output_type": "execute_result"
    }
   ],
   "source": [
    "0 in data.values # return true or false only one\n",
    "data.isin([0]).any().any() # this also return only one value\n",
    "data.isin([0]).any() # return true or false in every variable"
   ]
  },
  {
   "cell_type": "code",
   "execution_count": 61,
   "metadata": {},
   "outputs": [],
   "source": [
    "# no of pregrencies can be 0 but other cann't be zero so we have to fill these values for better fitting\n",
    "data['glucose_conc']=data['glucose_conc'].replace(0,data['glucose_conc'].mean())\n",
    "data['diastolic_bp']=data['diastolic_bp'].replace(0,data['diastolic_bp'].mean())\n",
    "data['thickness']=data['thickness'].replace(0,data['thickness'].mean())\n",
    "data['insulin']=data['insulin'].replace(0,data['insulin'].mean())\n",
    "data['bmi']=data['bmi'].replace(0,data['bmi'].mean())\n",
    "data['skin']=data['skin'].replace(0,data['skin'].mean())"
   ]
  },
  {
   "cell_type": "code",
   "execution_count": 62,
   "metadata": {},
   "outputs": [
    {
     "data": {
      "text/plain": [
       "False"
      ]
     },
     "execution_count": 62,
     "metadata": {},
     "output_type": "execute_result"
    }
   ],
   "source": [
    "data.isnull().any().any() # now there is no null value"
   ]
  },
  {
   "cell_type": "code",
   "execution_count": 63,
   "metadata": {},
   "outputs": [
    {
     "data": {
      "text/plain": [
       "num_preg         True\n",
       "glucose_conc    False\n",
       "diastolic_bp    False\n",
       "thickness       False\n",
       "insulin         False\n",
       "bmi             False\n",
       "diab_pred       False\n",
       "age             False\n",
       "skin            False\n",
       "diabetes         True\n",
       "dtype: bool"
      ]
     },
     "execution_count": 63,
     "metadata": {},
     "output_type": "execute_result"
    }
   ],
   "source": [
    "data.isin([0]).any()\n",
    "# note no of pregnencies can be zero and diabetes is true and false"
   ]
  },
  {
   "cell_type": "markdown",
   "metadata": {},
   "source": [
    "# Data analysis and visualization"
   ]
  },
  {
   "cell_type": "code",
   "execution_count": 64,
   "metadata": {},
   "outputs": [
    {
     "data": {
      "text/plain": [
       "array([[<matplotlib.axes._subplots.AxesSubplot object at 0x000001673238F348>,\n",
       "        <matplotlib.axes._subplots.AxesSubplot object at 0x0000016732E35A08>,\n",
       "        <matplotlib.axes._subplots.AxesSubplot object at 0x0000016731DE5648>],\n",
       "       [<matplotlib.axes._subplots.AxesSubplot object at 0x0000016732376208>,\n",
       "        <matplotlib.axes._subplots.AxesSubplot object at 0x00000167321C1DC8>,\n",
       "        <matplotlib.axes._subplots.AxesSubplot object at 0x00000167321F39C8>],\n",
       "       [<matplotlib.axes._subplots.AxesSubplot object at 0x00000167322B75C8>,\n",
       "        <matplotlib.axes._subplots.AxesSubplot object at 0x00000167322EF1C8>,\n",
       "        <matplotlib.axes._subplots.AxesSubplot object at 0x00000167322F7AC8>],\n",
       "       [<matplotlib.axes._subplots.AxesSubplot object at 0x000001673232D788>,\n",
       "        <matplotlib.axes._subplots.AxesSubplot object at 0x00000167323DE148>,\n",
       "        <matplotlib.axes._subplots.AxesSubplot object at 0x0000016732E5FFC8>],\n",
       "       [<matplotlib.axes._subplots.AxesSubplot object at 0x0000016732E99F08>,\n",
       "        <matplotlib.axes._subplots.AxesSubplot object at 0x0000016732ED2E88>,\n",
       "        <matplotlib.axes._subplots.AxesSubplot object at 0x0000016732F0DDC8>]],\n",
       "      dtype=object)"
      ]
     },
     "execution_count": 64,
     "metadata": {},
     "output_type": "execute_result"
    },
    {
     "data": {
      "image/png": "[encoded data removed]",
      "text/plain": [
       "<Figure size 1080x2160 with 15 Axes>"
      ]
     },
     "metadata": {
      "needs_background": "light"
     },
     "output_type": "display_data"
    }
   ],
   "source": [
    "# Histogram of variables\n",
    "columns = list(data)[0:-1]\n",
    "data[columns].hist(stacked = False, bins = 100, figsize = (15, 30), layout = (5,3))"
   ]
  },
  {
   "cell_type": "code",
   "execution_count": 65,
   "metadata": {},
   "outputs": [
    {
     "data": {
      "image/png": "[encoded data removed]",
      "text/plain": [
       "<Figure size 432x288 with 1 Axes>"
      ]
     },
     "metadata": {
      "needs_background": "light"
     },
     "output_type": "display_data"
    }
   ],
   "source": [
    "# barplot of bmi data\n",
    "sns.barplot(x= data.bmi.value_counts().index, y = data.bmi.value_counts().values)\n",
    "plt.xlabel('BMI')\n",
    "plt.ylabel(\" COUNT\")\n",
    "plt.show()"
   ]
  },
  {
   "cell_type": "code",
   "execution_count": 66,
   "metadata": {},
   "outputs": [
    {
     "data": {
      "image/png": "[encoded data removed]",
      "text/plain": [
       "<Figure size 432x288 with 1 Axes>"
      ]
     },
     "metadata": {
      "needs_background": "light"
     },
     "output_type": "display_data"
    }
   ],
   "source": [
    "# bar plot of number of pregrent times\n",
    "sns.barplot(x= data.num_preg.value_counts().index, y = data.num_preg.value_counts().values)\n",
    "plt.xlabel('num_preg')\n",
    "plt.ylabel(\" COUNT\")\n",
    "plt.show()"
   ]
  },
  {
   "cell_type": "code",
   "execution_count": 67,
   "metadata": {},
   "outputs": [
    {
     "data": {
      "image/png": "[encoded data removed]",
      "text/plain": [
       "<Figure size 432x288 with 1 Axes>"
      ]
     },
     "metadata": {
      "needs_background": "light"
     },
     "output_type": "display_data"
    }
   ],
   "source": [
    "# count plot of diabetis patient or not\n",
    "sns.countplot(data.diabetes)\n",
    "plt.xlabel('diabetes')\n",
    "plt.ylabel('Count')\n",
    "plt.show()"
   ]
  },
  {
   "cell_type": "code",
   "execution_count": 68,
   "metadata": {},
   "outputs": [
    {
     "data": {
      "image/png": "[encoded data removed]",
      "text/plain": [
       "<Figure size 432x360 with 2 Axes>"
      ]
     },
     "metadata": {
      "needs_background": "light"
     },
     "output_type": "display_data"
    }
   ],
   "source": [
    "# correalation heatmap\n",
    "corrmat = data.corr()\n",
    "top_corr_features = corrmat.index\n",
    "plt.figure(figsize= (6,5))\n",
    "g = sns.heatmap(data[top_corr_features].corr(), annot= True, cmap = 'RdYlGn',fmt ='.1f')"
   ]
  },
  {
   "cell_type": "markdown",
   "metadata": {},
   "source": [
    "# categorial variable encoding"
   ]
  },
  {
   "cell_type": "code",
   "execution_count": 69,
   "metadata": {},
   "outputs": [],
   "source": [
    "#changing boolean to number\n",
    "diabetes_map = {True: 1, False: 0}\n",
    "data['diabetes']= data['diabetes'].map(diabetes_map)"
   ]
  },
  {
   "cell_type": "code",
   "execution_count": 70,
   "metadata": {},
   "outputs": [
    {
     "data": {
      "text/html": [
       "<div>\n",
       "<style scoped>\n",
       "    .dataframe tbody tr th:only-of-type {\n",
       "        vertical-align: middle;\n",
       "    }\n",
       "\n",
       "    .dataframe tbody tr th {\n",
       "        vertical-align: top;\n",
       "    }\n",
       "\n",
       "    .dataframe thead th {\n",
       "        text-align: right;\n",
       "    }\n",
       "</style>\n",
       "<table border=\"1\" class=\"dataframe\">\n",
       "  <thead>\n",
       "    <tr style=\"text-align: right;\">\n",
       "      <th></th>\n",
       "      <th>num_preg</th>\n",
       "      <th>glucose_conc</th>\n",
       "      <th>diastolic_bp</th>\n",
       "      <th>thickness</th>\n",
       "      <th>insulin</th>\n",
       "      <th>bmi</th>\n",
       "      <th>diab_pred</th>\n",
       "      <th>age</th>\n",
       "      <th>skin</th>\n",
       "      <th>diabetes</th>\n",
       "    </tr>\n",
       "  </thead>\n",
       "  <tbody>\n",
       "    <tr>\n",
       "      <th>0</th>\n",
       "      <td>6</td>\n",
       "      <td>148.0</td>\n",
       "      <td>72.0</td>\n",
       "      <td>35.000000</td>\n",
       "      <td>79.799479</td>\n",
       "      <td>33.6</td>\n",
       "      <td>0.627</td>\n",
       "      <td>50</td>\n",
       "      <td>1.379000</td>\n",
       "      <td>1</td>\n",
       "    </tr>\n",
       "    <tr>\n",
       "      <th>1</th>\n",
       "      <td>1</td>\n",
       "      <td>85.0</td>\n",
       "      <td>66.0</td>\n",
       "      <td>29.000000</td>\n",
       "      <td>79.799479</td>\n",
       "      <td>26.6</td>\n",
       "      <td>0.351</td>\n",
       "      <td>31</td>\n",
       "      <td>1.142600</td>\n",
       "      <td>0</td>\n",
       "    </tr>\n",
       "    <tr>\n",
       "      <th>2</th>\n",
       "      <td>8</td>\n",
       "      <td>183.0</td>\n",
       "      <td>64.0</td>\n",
       "      <td>20.536458</td>\n",
       "      <td>79.799479</td>\n",
       "      <td>23.3</td>\n",
       "      <td>0.672</td>\n",
       "      <td>32</td>\n",
       "      <td>0.809136</td>\n",
       "      <td>1</td>\n",
       "    </tr>\n",
       "    <tr>\n",
       "      <th>3</th>\n",
       "      <td>1</td>\n",
       "      <td>89.0</td>\n",
       "      <td>66.0</td>\n",
       "      <td>23.000000</td>\n",
       "      <td>94.000000</td>\n",
       "      <td>28.1</td>\n",
       "      <td>0.167</td>\n",
       "      <td>21</td>\n",
       "      <td>0.906200</td>\n",
       "      <td>0</td>\n",
       "    </tr>\n",
       "    <tr>\n",
       "      <th>4</th>\n",
       "      <td>0</td>\n",
       "      <td>137.0</td>\n",
       "      <td>40.0</td>\n",
       "      <td>35.000000</td>\n",
       "      <td>168.000000</td>\n",
       "      <td>43.1</td>\n",
       "      <td>2.288</td>\n",
       "      <td>33</td>\n",
       "      <td>1.379000</td>\n",
       "      <td>1</td>\n",
       "    </tr>\n",
       "  </tbody>\n",
       "</table>\n",
       "</div>"
      ],
      "text/plain": [
       "   num_preg  glucose_conc  diastolic_bp  thickness     insulin   bmi  \\\n",
       "0         6         148.0          72.0  35.000000   79.799479  33.6   \n",
       "1         1          85.0          66.0  29.000000   79.799479  26.6   \n",
       "2         8         183.0          64.0  20.536458   79.799479  23.3   \n",
       "3         1          89.0          66.0  23.000000   94.000000  28.1   \n",
       "4         0         137.0          40.0  35.000000  168.000000  43.1   \n",
       "\n",
       "   diab_pred  age      skin  diabetes  \n",
       "0      0.627   50  1.379000         1  \n",
       "1      0.351   31  1.142600         0  \n",
       "2      0.672   32  0.809136         1  \n",
       "3      0.167   21  0.906200         0  \n",
       "4      2.288   33  1.379000         1  "
      ]
     },
     "execution_count": 70,
     "metadata": {},
     "output_type": "execute_result"
    }
   ],
   "source": [
    "data.head()"
   ]
  },
  {
   "cell_type": "code",
   "execution_count": 71,
   "metadata": {},
   "outputs": [
    {
     "name": "stdout",
     "output_type": "stream",
     "text": [
      "<class 'pandas.core.frame.DataFrame'>\n",
      "RangeIndex: 768 entries, 0 to 767\n",
      "Data columns (total 10 columns):\n",
      " #   Column        Non-Null Count  Dtype  \n",
      "---  ------        --------------  -----  \n",
      " 0   num_preg      768 non-null    int64  \n",
      " 1   glucose_conc  768 non-null    float64\n",
      " 2   diastolic_bp  768 non-null    float64\n",
      " 3   thickness     768 non-null    float64\n",
      " 4   insulin       768 non-null    float64\n",
      " 5   bmi           768 non-null    float64\n",
      " 6   diab_pred     768 non-null    float64\n",
      " 7   age           768 non-null    int64  \n",
      " 8   skin          768 non-null    float64\n",
      " 9   diabetes      768 non-null    int64  \n",
      "dtypes: float64(7), int64(3)\n",
      "memory usage: 60.1 KB\n"
     ]
    }
   ],
   "source": [
    "data.info()"
   ]
  },
  {
   "cell_type": "markdown",
   "metadata": {},
   "source": [
    "# Build models"
   ]
  },
  {
   "cell_type": "code",
   "execution_count": 72,
   "metadata": {},
   "outputs": [
    {
     "name": "stdout",
     "output_type": "stream",
     "text": [
      "0    1\n",
      "1    0\n",
      "2    1\n",
      "3    0\n",
      "4    1\n",
      "Name: diabetes, dtype: int64\n"
     ]
    }
   ],
   "source": [
    "# make  x and y data\n",
    "x_data = data.drop(['diabetes'], axis = 1) # axis= 1 is for column data\n",
    "x_data.head()\n",
    "y = data.diabetes\n",
    "print(y[0:5,]) # print five rows values"
   ]
  },
  {
   "cell_type": "code",
   "execution_count": 73,
   "metadata": {},
   "outputs": [],
   "source": [
    "#Start Building the models\n",
    "from sklearn.model_selection import train_test_split"
   ]
  },
  {
   "cell_type": "code",
   "execution_count": 74,
   "metadata": {},
   "outputs": [],
   "source": [
    "#spliting train and test data\n",
    "x= data.drop(['diabetes'], axis= 1)\n",
    "y= data.diabetes.values\n",
    "\n",
    "x_train, x_test, y_train, y_test = train_test_split(x, y, test_size = 0.2, random_state= 0)"
   ]
  },
  {
   "cell_type": "code",
   "execution_count": 75,
   "metadata": {},
   "outputs": [],
   "source": [
    "from sklearn.preprocessing import StandardScaler\n",
    "sc = StandardScaler()\n",
    "x_train = sc.fit_transform(x_train)\n",
    "x_test = sc.transform(x_test)"
   ]
  },
  {
   "cell_type": "markdown",
   "metadata": {},
   "source": [
    "### make pipeline of classifiers"
   ]
  },
  {
   "cell_type": "code",
   "execution_count": 76,
   "metadata": {},
   "outputs": [],
   "source": [
    "from sklearn.linear_model import LogisticRegression\n",
    "from sklearn.neighbors import KNeighborsClassifier\n",
    "from sklearn.svm import SVC\n",
    "from sklearn.naive_bayes import GaussianNB\n",
    "from sklearn.tree import DecisionTreeClassifier\n",
    "from sklearn.ensemble import RandomForestClassifier\n",
    "import xgboost as xgb"
   ]
  },
  {
   "cell_type": "code",
   "execution_count": 77,
   "metadata": {},
   "outputs": [],
   "source": [
    "names = [\"Decision Tree\", \n",
    "         \"Random Forest\",\n",
    "         \"Naive Bayes\", \n",
    "         \"Logistic Regression\",\n",
    "         \"Support Vector Machine\",\n",
    "         \"XGboost\"]\n",
    "\n",
    "classifiers = [\n",
    "    DecisionTreeClassifier(max_depth=5),\n",
    "    RandomForestClassifier(max_depth=5, n_estimators=100, max_features=1),\n",
    "    GaussianNB(),\n",
    "    LogisticRegression(),\n",
    "    SVC(random_state= 1),\n",
    "    xgb.XGBClassifier()]\n",
    "\n",
    "\n",
    "\n",
    "store_classifiers = {}\n",
    "for name, clf in zip(names, classifiers):\n",
    "    clf.fit(x_train, y_train)\n",
    "    store_classifiers[name]=clf"
   ]
  },
  {
   "cell_type": "code",
   "execution_count": 78,
   "metadata": {},
   "outputs": [],
   "source": [
    "# find accurecy of test\n",
    "# accurecy is (tp+tn)/(all)\n",
    "# precision=positive predictive value(ppv)= tp/(tp+fp)\n",
    "# recall = sensitivity = tp/(tp+fn)\n",
    "from sklearn.metrics import confusion_matrix, accuracy_score,precision_score,recall_score\n",
    "from sklearn.metrics import balanced_accuracy_score\n",
    "from sklearn.metrics import precision_recall_fscore_support\n",
    "from sklearn.metrics import roc_auc_score\n",
    "from sklearn.metrics import classification_report"
   ]
  },
  {
   "cell_type": "code",
   "execution_count": 79,
   "metadata": {},
   "outputs": [
    {
     "name": "stdout",
     "output_type": "stream",
     "text": [
      "\n",
      "\n",
      "Decision Tree\n",
      "Accuracy:  0.7662337662337663\n",
      "Balanced Accuracy:  0.7601908928216345\n",
      "Precision/Recall/F1 score:  (array([0.87368421, 0.59322034]), array([0.77570093, 0.74468085]), array([0.82178218, 0.66037736]), array([107,  47], dtype=int64))\n",
      "Confusion Matrix:  [[83 24]\n",
      " [12 35]]\n",
      "AUC:  0.7601908928216345\n",
      "              precision    recall  f1-score   support\n",
      "\n",
      "           0       0.87      0.78      0.82       107\n",
      "           1       0.59      0.74      0.66        47\n",
      "\n",
      "    accuracy                           0.77       154\n",
      "   macro avg       0.73      0.76      0.74       154\n",
      "weighted avg       0.79      0.77      0.77       154\n",
      "\n",
      "\n",
      "\n",
      "Random Forest\n",
      "Accuracy:  0.7987012987012987\n",
      "Balanced Accuracy:  0.711970570689998\n",
      "Precision/Recall/F1 score:  (array([0.80645161, 0.76666667]), array([0.93457944, 0.4893617 ]), array([0.86580087, 0.5974026 ]), array([107,  47], dtype=int64))\n",
      "Confusion Matrix:  [[100   7]\n",
      " [ 24  23]]\n",
      "AUC:  0.7119705706899979\n",
      "              precision    recall  f1-score   support\n",
      "\n",
      "           0       0.81      0.93      0.87       107\n",
      "           1       0.77      0.49      0.60        47\n",
      "\n",
      "    accuracy                           0.80       154\n",
      "   macro avg       0.79      0.71      0.73       154\n",
      "weighted avg       0.79      0.80      0.78       154\n",
      "\n",
      "\n",
      "\n",
      "Naive Bayes\n",
      "Accuracy:  0.7857142857142857\n",
      "Balanced Accuracy:  0.7384171803539471\n",
      "Precision/Recall/F1 score:  (array([0.83636364, 0.65909091]), array([0.85981308, 0.61702128]), array([0.84792627, 0.63736264]), array([107,  47], dtype=int64))\n",
      "Confusion Matrix:  [[92 15]\n",
      " [18 29]]\n",
      "AUC:  0.7384171803539471\n",
      "              precision    recall  f1-score   support\n",
      "\n",
      "           0       0.84      0.86      0.85       107\n",
      "           1       0.66      0.62      0.64        47\n",
      "\n",
      "    accuracy                           0.79       154\n",
      "   macro avg       0.75      0.74      0.74       154\n",
      "weighted avg       0.78      0.79      0.78       154\n",
      "\n",
      "\n",
      "\n",
      "Logistic Regression\n",
      "Accuracy:  0.8181818181818182\n",
      "Balanced Accuracy:  0.7558162656591767\n",
      "Precision/Recall/F1 score:  (array([0.83760684, 0.75675676]), array([0.91588785, 0.59574468]), array([0.875     , 0.66666667]), array([107,  47], dtype=int64))\n",
      "Confusion Matrix:  [[98  9]\n",
      " [19 28]]\n",
      "AUC:  0.7558162656591767\n",
      "              precision    recall  f1-score   support\n",
      "\n",
      "           0       0.84      0.92      0.88       107\n",
      "           1       0.76      0.60      0.67        47\n",
      "\n",
      "    accuracy                           0.82       154\n",
      "   macro avg       0.80      0.76      0.77       154\n",
      "weighted avg       0.81      0.82      0.81       154\n",
      "\n",
      "\n",
      "\n",
      "Support Vector Machine\n",
      "Accuracy:  0.7727272727272727\n",
      "Balanced Accuracy:  0.7052097832571087\n",
      "Precision/Recall/F1 score:  (array([0.81034483, 0.65789474]), array([0.87850467, 0.53191489]), array([0.84304933, 0.58823529]), array([107,  47], dtype=int64))\n",
      "Confusion Matrix:  [[94 13]\n",
      " [22 25]]\n",
      "AUC:  0.7052097832571087\n",
      "              precision    recall  f1-score   support\n",
      "\n",
      "           0       0.81      0.88      0.84       107\n",
      "           1       0.66      0.53      0.59        47\n",
      "\n",
      "    accuracy                           0.77       154\n",
      "   macro avg       0.73      0.71      0.72       154\n",
      "weighted avg       0.76      0.77      0.77       154\n",
      "\n",
      "\n",
      "\n",
      "XGboost\n",
      "Accuracy:  0.8246753246753247\n",
      "Balanced Accuracy:  0.8261085702923046\n",
      "Precision/Recall/F1 score:  (array([0.91666667, 0.67241379]), array([0.82242991, 0.82978723]), array([0.86699507, 0.74285714]), array([107,  47], dtype=int64))\n",
      "Confusion Matrix:  [[88 19]\n",
      " [ 8 39]]\n",
      "AUC:  0.8261085702923046\n",
      "              precision    recall  f1-score   support\n",
      "\n",
      "           0       0.92      0.82      0.87       107\n",
      "           1       0.67      0.83      0.74        47\n",
      "\n",
      "    accuracy                           0.82       154\n",
      "   macro avg       0.79      0.83      0.80       154\n",
      "weighted avg       0.84      0.82      0.83       154\n",
      "\n"
     ]
    }
   ],
   "source": [
    "for name,clf in store_classifiers.items():\n",
    "    y_pred = clf.predict(x_test)\n",
    "    accuracy = accuracy_score(y_test, y_pred)\n",
    "    balanced_accuracy = balanced_accuracy_score(y_test, y_pred)\n",
    "    prf1_score = precision_recall_fscore_support(y_test, y_pred)\n",
    "    conf_matrix = confusion_matrix(y_test,y_pred)\n",
    "    auc_score = roc_auc_score(y_test,y_pred)\n",
    "    total_report = classification_report(y_test,y_pred)\n",
    "    print('\\n')\n",
    "    print(name)\n",
    "    print('Accuracy: ' , accuracy)\n",
    "    print('Balanced Accuracy: ' ,balanced_accuracy)\n",
    "    print('Precision/Recall/F1 score: ' ,prf1_score)\n",
    "    print('Confusion Matrix: ' ,conf_matrix)\n",
    "    print('AUC: ' ,auc_score)\n",
    "    print(total_report)"
   ]
  },
  {
   "cell_type": "code",
   "execution_count": 80,
   "metadata": {},
   "outputs": [],
   "source": [
    "## Hyper Parameter Optimization\n",
    "n_estimators = [100, 500, 900, 1100, 1500]\n",
    "max_depth = [2, 3, 5, 10, 15]\n",
    "booster=['gbtree','gblinear']\n",
    "learning_rate=[0.05,0.1,0.15,0.20]\n",
    "min_child_weight=[1,2,3,4]\n",
    "base_score=[0.25,0.5,0.75,1]\n",
    "\n",
    "# Define the grid of hyperparameters to search\n",
    "hyperparameter_grid = {\n",
    "    'n_estimators': n_estimators,\n",
    "    'learning_rate':learning_rate,\n",
    "    'booster':booster,\n",
    "    'base_score':base_score\n",
    "    }"
   ]
  },
  {
   "cell_type": "code",
   "execution_count": 81,
   "metadata": {},
   "outputs": [],
   "source": [
    "# Set up the random search with 4-fold cross validation\n",
    "import xgboost\n",
    "c1=xgboost.XGBClassifier()\n",
    "\n",
    "from sklearn.model_selection import RandomizedSearchCV\n",
    "random_cv = RandomizedSearchCV(estimator=c1,\n",
    "            param_distributions=hyperparameter_grid,\n",
    "            cv=5, n_iter=50,\n",
    "            scoring = 'neg_mean_absolute_error',n_jobs = 4,\n",
    "            verbose = 5, \n",
    "            return_train_score = True,\n",
    "            random_state=42)"
   ]
  },
  {
   "cell_type": "code",
   "execution_count": 82,
   "metadata": {},
   "outputs": [
    {
     "name": "stdout",
     "output_type": "stream",
     "text": [
      "Fitting 5 folds for each of 50 candidates, totalling 250 fits\n"
     ]
    },
    {
     "name": "stderr",
     "output_type": "stream",
     "text": [
      "[Parallel(n_jobs=4)]: Using backend LokyBackend with 4 concurrent workers.\n",
      "[Parallel(n_jobs=4)]: Done  12 tasks      | elapsed:    0.4s\n",
      "[Parallel(n_jobs=4)]: Done 100 tasks      | elapsed:   10.4s\n",
      "[Parallel(n_jobs=4)]: Done 210 tasks      | elapsed:   23.2s\n",
      "[Parallel(n_jobs=4)]: Done 250 out of 250 | elapsed:   27.8s finished\n"
     ]
    },
    {
     "data": {
      "text/plain": [
       "RandomizedSearchCV(cv=5, error_score=nan,\n",
       "                   estimator=XGBClassifier(base_score=None, booster=None,\n",
       "                                           colsample_bylevel=None,\n",
       "                                           colsample_bynode=None,\n",
       "                                           colsample_bytree=None, gamma=None,\n",
       "                                           gpu_id=None, importance_type='gain',\n",
       "                                           interaction_constraints=None,\n",
       "                                           learning_rate=None,\n",
       "                                           max_delta_step=None, max_depth=None,\n",
       "                                           min_child_weight=None, missing=nan,\n",
       "                                           monotone_constraints=None,\n",
       "                                           n...\n",
       "                                           validate_parameters=None,\n",
       "                                           verbosity=None),\n",
       "                   iid='deprecated', n_iter=50, n_jobs=4,\n",
       "                   param_distributions={'base_score': [0.25, 0.5, 0.75, 1],\n",
       "                                        'booster': ['gbtree', 'gblinear'],\n",
       "                                        'learning_rate': [0.05, 0.1, 0.15, 0.2],\n",
       "                                        'n_estimators': [100, 500, 900, 1100,\n",
       "                                                         1500]},\n",
       "                   pre_dispatch='2*n_jobs', random_state=42, refit=True,\n",
       "                   return_train_score=True, scoring='neg_mean_absolute_error',\n",
       "                   verbose=5)"
      ]
     },
     "execution_count": 82,
     "metadata": {},
     "output_type": "execute_result"
    }
   ],
   "source": [
    "random_cv.fit(x_train,y_train)"
   ]
  },
  {
   "cell_type": "code",
   "execution_count": 83,
   "metadata": {},
   "outputs": [
    {
     "data": {
      "text/plain": [
       "XGBClassifier(base_score=0.75, booster='gblinear', colsample_bylevel=None,\n",
       "              colsample_bynode=None, colsample_bytree=None, gamma=None,\n",
       "              gpu_id=-1, importance_type='gain', interaction_constraints=None,\n",
       "              learning_rate=0.05, max_delta_step=None, max_depth=None,\n",
       "              min_child_weight=None, missing=nan, monotone_constraints=None,\n",
       "              n_estimators=100, n_jobs=0, num_parallel_tree=None,\n",
       "              objective='binary:logistic', random_state=0, reg_alpha=0,\n",
       "              reg_lambda=0, scale_pos_weight=1, subsample=None,\n",
       "              tree_method=None, validate_parameters=1, verbosity=None)"
      ]
     },
     "execution_count": 83,
     "metadata": {},
     "output_type": "execute_result"
    }
   ],
   "source": [
    "random_cv.best_estimator_"
   ]
  },
  {
   "cell_type": "code",
   "execution_count": 84,
   "metadata": {},
   "outputs": [],
   "source": [
    "final_classifier=xgboost.XGBClassifier(base_score=0.75, booster='gblinear', colsample_bylevel=None,\n",
    "              colsample_bynode=None, colsample_bytree=None, gamma=None,\n",
    "              gpu_id=-1, importance_type='gain', interaction_constraints=None,\n",
    "              learning_rate=0.05, max_delta_step=None, max_depth=None,\n",
    "              min_child_weight=None, missing=None, monotone_constraints=None,\n",
    "              n_estimators=100, n_jobs=0, num_parallel_tree=None,\n",
    "              objective='binary:logistic', random_state=0, reg_alpha=0,\n",
    "              reg_lambda=0, scale_pos_weight=1, subsample=None,\n",
    "              tree_method=None, validate_parameters=1, verbosity=None)"
   ]
  },
  {
   "cell_type": "code",
   "execution_count": 85,
   "metadata": {},
   "outputs": [],
   "source": [
    "final_classifier.fit(x_train,y_train)\n",
    "y_pred1 = final_classifier.predict(x_test)"
   ]
  },
  {
   "cell_type": "code",
   "execution_count": 86,
   "metadata": {},
   "outputs": [
    {
     "name": "stdout",
     "output_type": "stream",
     "text": [
      "\n",
      "\n",
      "XGboost\n",
      "Accuracy:  0.8116883116883117\n",
      "Balanced Accuracy:  0.8261085702923046\n",
      "Precision/Recall/F1 score:  (array([0.91666667, 0.67241379]), array([0.82242991, 0.82978723]), array([0.86699507, 0.74285714]), array([107,  47], dtype=int64))\n",
      "Confusion Matrix:  [[88 19]\n",
      " [ 8 39]]\n",
      "AUC:  0.8261085702923046\n",
      "              precision    recall  f1-score   support\n",
      "\n",
      "           0       0.92      0.82      0.87       107\n",
      "           1       0.67      0.83      0.74        47\n",
      "\n",
      "    accuracy                           0.82       154\n",
      "   macro avg       0.79      0.83      0.80       154\n",
      "weighted avg       0.84      0.82      0.83       154\n",
      "\n"
     ]
    }
   ],
   "source": [
    "accuracy = accuracy_score(y_test, y_pred1)\n",
    "balanced_accuracy = balanced_accuracy_score(y_test, y_pred)\n",
    "prf1_score = precision_recall_fscore_support(y_test, y_pred)\n",
    "conf_matrix = confusion_matrix(y_test,y_pred)\n",
    "auc_score = roc_auc_score(y_test,y_pred)\n",
    "total_report = classification_report(y_test,y_pred)\n",
    "print('\\n')\n",
    "print(name)\n",
    "print('Accuracy: ' , accuracy)\n",
    "print('Balanced Accuracy: ' ,balanced_accuracy)\n",
    "print('Precision/Recall/F1 score: ' ,prf1_score)\n",
    "print('Confusion Matrix: ' ,conf_matrix)\n",
    "print('AUC: ' ,auc_score)\n",
    "print(total_report)"
   ]
  },
  {
   "cell_type": "markdown",
   "metadata": {},
   "source": [
    "The final accurecy is 81.2 percent which is satisfactory for this project."
   ]
  }
 ],
 "metadata": {
  "kernelspec": {
   "display_name": "Python 3",
   "language": "python",
   "name": "python3"
  },
  "language_info": {
   "codemirror_mode": {
    "name": "ipython",
    "version": 3
   },
   "file_extension": ".py",
   "mimetype": "text/x-python",
   "name": "python",
   "nbconvert_exporter": "python",
   "pygments_lexer": "ipython3",
   "version": "3.7.6"
  }
 },
 "nbformat": 4,
 "nbformat_minor": 4
}
